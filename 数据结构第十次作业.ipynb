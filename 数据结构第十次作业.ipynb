{
 "cells": [
  {
   "cell_type": "code",
   "execution_count": 9,
   "metadata": {},
   "outputs": [],
   "source": [
    "class binary_tree:\n",
    "    def __init__(self,root_obj):\n",
    "        self.key=root_obj\n",
    "        self.left_child=None\n",
    "        self.right_child=None\n",
    "    def insert_left(self,new_node):\n",
    "        if(self.left_child==None):\n",
    "            self.left_child=binary_tree(new_node)\n",
    "        else:\n",
    "            t=binary_tree(new_node)\n",
    "            t.left=self.left_child\n",
    "            self.left_child=t\n",
    "    def insert_right(self,new_node):\n",
    "        if self.right_child==None:\n",
    "            self.right_child=binary_tree(new_node)\n",
    "        else:\n",
    "            t=binaty_tree(new_node)\n",
    "            t.right=self.right_child\n",
    "            self.right_child=t\n",
    "    def get_right_child(self):\n",
    "        return self.right_child\n",
    "    \n",
    "    def get_left_child(self):\n",
    "        return self.left_child\n",
    "    def set_root_val(self,obj):\n",
    "        self.key=obj\n",
    "    def get_root_val(self):\n",
    "        return self.key\n",
    "\n",
    "def pre_order(tree):\n",
    "    if tree:\n",
    "        print(tree.get_root_val())\n",
    "        pre_order(tree.get_left_child())\n",
    "        pre_order(tree.get_right_child())\n",
    "\n",
    "def post_order(tree):\n",
    "    if tree!=None:\n",
    "        pre_order(tree.get_left_child())\n",
    "        pre_order(tree.get_right_child())\n",
    "        print(tree.get_root_val())\n",
    "\n",
    "def in_order(tree):\n",
    "    if tree!=None:\n",
    "        pre_order(tree.get_left_child())\n",
    "        print(tree.get_root_val())\n",
    "        pre_order(tree.get_right_child())\n",
    "            "
   ]
  },
  {
   "cell_type": "code",
   "execution_count": 12,
   "metadata": {},
   "outputs": [
    {
     "name": "stdout",
     "output_type": "stream",
     "text": [
      "=================================\n",
      "pre_order:\n",
      "language\n",
      "compiled\n",
      "C\n",
      "Java\n",
      "interpreted\n",
      "Python\n",
      "Scheme\n",
      "=================================\n",
      "post_order:\n",
      "compiled\n",
      "C\n",
      "Java\n",
      "interpreted\n",
      "Python\n",
      "Scheme\n",
      "language\n",
      "=================================\n",
      "in_order:\n",
      "compiled\n",
      "C\n",
      "Java\n",
      "language\n",
      "interpreted\n",
      "Python\n",
      "Scheme\n"
     ]
    }
   ],
   "source": [
    "root=binary_tree(\"language\")\n",
    "root.insert_left(\"compiled\")\n",
    "root.insert_right(\"interpreted\")\n",
    "root.left_child.insert_left(\"C\")\n",
    "root.left_child.insert_right(\"Java\")\n",
    "root.right_child.insert_left(\"Python\")\n",
    "root.right_child.insert_right(\"Scheme\")\n",
    "print(\"=================================\")\n",
    "print(\"pre_order:\")\n",
    "pre_order(root)\n",
    "print(\"=================================\")\n",
    "print(\"post_order:\")\n",
    "post_order(root)\n",
    "print(\"=================================\")\n",
    "print(\"in_order:\")\n",
    "in_order(root)"
   ]
  },
  {
   "cell_type": "code",
   "execution_count": null,
   "metadata": {},
   "outputs": [],
   "source": []
  }
 ],
 "metadata": {
  "kernelspec": {
   "display_name": "Python 3",
   "language": "python",
   "name": "python3"
  },
  "language_info": {
   "codemirror_mode": {
    "name": "ipython",
    "version": 3
   },
   "file_extension": ".py",
   "mimetype": "text/x-python",
   "name": "python",
   "nbconvert_exporter": "python",
   "pygments_lexer": "ipython3",
   "version": "3.8.3"
  }
 },
 "nbformat": 4,
 "nbformat_minor": 4
}
