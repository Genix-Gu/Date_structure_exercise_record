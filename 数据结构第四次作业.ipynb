{
 "cells": [
  {
   "cell_type": "code",
   "execution_count": 42,
   "metadata": {},
   "outputs": [],
   "source": [
    "class link_node:\n",
    "    def __init__(self,data=0):\n",
    "        self.data=data\n",
    "        self.next=None\n",
    "        \n",
    "class Link_stack:\n",
    "    def __init__ (self):\n",
    "        self.link_stack=link_node(0)\n",
    "    def top(self):\n",
    "        return None if self.is_empty() else self.link_stack.next.data\n",
    "    def push(self,new_data):\n",
    "        node=link_node(new_data)\n",
    "        node.next=self.link_stack.next\n",
    "        self.link_stack.next=node\n",
    "    def pop(self):\n",
    "        if(self.is_empty()):\n",
    "            return None\n",
    "        else:\n",
    "            next_node=self.link_stack.next\n",
    "            self.link_stack.next=next_node.next\n",
    "            return next_node.data\n",
    "    def clear(self):\n",
    "        self.link_stack=link_node()\n",
    "    def is_empty(self):\n",
    "        return self.link_stack.next is None\n",
    "    def length(self):\n",
    "        num=0\n",
    "        current_node=self.link_stack.next\n",
    "        while current_node:\n",
    "            num+=1\n",
    "            current_node=current_node.next\n",
    "        return num"
   ]
  },
  {
   "cell_type": "code",
   "execution_count": 43,
   "metadata": {},
   "outputs": [
    {
     "name": "stdout",
     "output_type": "stream",
     "text": [
      "the lenghth of stack is: 5\n",
      "top: 4\n",
      "pop data is: 4\n",
      "top: 3\n",
      "pop data is: 3\n",
      "top: 2\n",
      "pop data is: 2\n",
      "now top data is 1\n",
      "now is the stack empty? True\n"
     ]
    }
   ],
   "source": [
    "#测试链表实现的栈\n",
    "test_link_node=Link_stack()\n",
    "for i in range(5):\n",
    "    test_link_node.push(i)\n",
    "print(\"the lenghth of stack is:\",test_link_node.length())\n",
    "for j in range(3):\n",
    "    print(\"top:\",test_link_node.top())\n",
    "    print(\"pop data is:\",test_link_node.pop())\n",
    "print(\"now top data is\",test_link_node.top())\n",
    "test_link_node.clear()\n",
    "print(\"execution clear\")\n",
    "print(\"now is the stack empty?\",test_link_node.is_empty())"
   ]
  },
  {
   "cell_type": "code",
   "execution_count": 56,
   "metadata": {},
   "outputs": [],
   "source": [
    "class Link_queue:\n",
    "    def __init__(self):\n",
    "        self.link_queue=link_node()\n",
    "    def enqueue(self,new_data):\n",
    "        node=link_node(new_data)\n",
    "        node.next=self.link_queue.next\n",
    "        self.link_queue.next=node\n",
    "    def size(self):\n",
    "        num=0\n",
    "        current_node=self.link_queue.next\n",
    "        while current_node:\n",
    "            num+=1\n",
    "            current_node=current_node.next\n",
    "        return num\n",
    "    def is_empty(self):\n",
    "        return self.link_queue.next is None\n",
    "    def dequeue(self):\n",
    "        current_node=self.link_queue.next\n",
    "        while current_node.next.next is not None:\n",
    "            current_node=current_node.next\n",
    "        data=current_node.next.data\n",
    "        current_node.next=None\n",
    "        return data"
   ]
  },
  {
   "cell_type": "code",
   "execution_count": 62,
   "metadata": {},
   "outputs": [
    {
     "name": "stdout",
     "output_type": "stream",
     "text": [
      "enqueue 0 to 4\n",
      "now queue size is : 5\n",
      "dequeue 3\n",
      "0\n",
      "1\n",
      "2\n",
      "now queue size is 2\n"
     ]
    }
   ],
   "source": [
    "#测试链表队列\n",
    "test_link_queue=Link_queue()\n",
    "print(\"enqueue 0 to 4\")\n",
    "for i in range(5):\n",
    "    test_link_queue.enqueue(i)\n",
    "print(\"now queue size is :\",test_link_queue.size())\n",
    "print(\"dequeue 3\")\n",
    "for i in range(3):\n",
    "    print(test_link_queue.dequeue())\n",
    "print(\"now queue size is\",test_link_queue.size())"
   ]
  },
  {
   "cell_type": "code",
   "execution_count": 73,
   "metadata": {},
   "outputs": [],
   "source": [
    "class Link_deque():\n",
    "    def __init__(self):\n",
    "        self.link_deque=link_node()\n",
    "    def add_front(self,new_data):\n",
    "        node=link_node(new_data)\n",
    "        node.next=self.link_deque.next\n",
    "        self.link_deque.next=node\n",
    "    def add_rear(self,new_data):\n",
    "        node=link_node(new_data)\n",
    "        node.next=None\n",
    "        current_node=self.link_deque.next\n",
    "        while current_node.next is not None:\n",
    "            current_node=current_node.next\n",
    "        current_node.next=node\n",
    "        \n",
    "    def remove_front(self):\n",
    "        if self.is_empty():\n",
    "            return None\n",
    "        data=self.link_deque.next.data\n",
    "        self.link_deque.next=self.link_deque.next.next\n",
    "        return data\n",
    "    def remove_rear():\n",
    "        current_node=self.link_deque.next\n",
    "        while current_node.next.next is not None:\n",
    "            current_node=current_node.next\n",
    "        data=current.next.data\n",
    "        current_node.next=None\n",
    "    def size(self):\n",
    "        current_node=self.link_deque.next\n",
    "        num=0\n",
    "        while current_node:\n",
    "            num+=1\n",
    "            current_node=current_node.next\n",
    "        return num\n",
    "    def is_empty(self):\n",
    "        return self.link_deque.next is None"
   ]
  },
  {
   "cell_type": "code",
   "execution_count": 75,
   "metadata": {},
   "outputs": [
    {
     "name": "stdout",
     "output_type": "stream",
     "text": [
      "now size 10\n",
      "4\n",
      "3\n",
      "2\n",
      "1\n",
      "0\n",
      "0\n",
      "1\n",
      "2\n",
      "now_size is 2\n"
     ]
    }
   ],
   "source": [
    "test_deque=Link_deque()\n",
    "\"input 0 to 4 from front end\"\n",
    "for i in range(5):\n",
    "    test_deque.add_front(i)\n",
    "\"input 0 to 4 from back end\"\n",
    "for j in range(5):\n",
    "    test_deque.add_rear(j)\n",
    "print(\"now size\",test_deque.size())\n",
    "for i in range (8):\n",
    "    print(test_deque.remove_front())\n",
    "print(\"now_size is\",test_deque.size())"
   ]
  },
  {
   "cell_type": "code",
   "execution_count": null,
   "metadata": {},
   "outputs": [],
   "source": []
  }
 ],
 "metadata": {
  "kernelspec": {
   "display_name": "Python 3",
   "language": "python",
   "name": "python3"
  },
  "language_info": {
   "codemirror_mode": {
    "name": "ipython",
    "version": 3
   },
   "file_extension": ".py",
   "mimetype": "text/x-python",
   "name": "python",
   "nbconvert_exporter": "python",
   "pygments_lexer": "ipython3",
   "version": "3.8.3"
  }
 },
 "nbformat": 4,
 "nbformat_minor": 4
}
