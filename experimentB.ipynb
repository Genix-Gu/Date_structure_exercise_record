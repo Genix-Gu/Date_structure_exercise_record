{
 "cells": [
  {
   "cell_type": "code",
   "execution_count": 22,
   "metadata": {},
   "outputs": [],
   "source": [
    "def calculate(operation,obj0,obj1):\n",
    "    if operation ==\"*\":\n",
    "        return obj1*obj0\n",
    "    elif operation ==\"/\":\n",
    "        return obj1/obj0\n",
    "    elif operation ==\"+\":\n",
    "        return obj1+obj0\n",
    "    elif operation ==\"-\":\n",
    "        return obj1-obj0\n",
    "def back_cal(sentence):\n",
    "    num_stack=[]\n",
    "    data=list(sentence)\n",
    "    for i in data:\n",
    "        if i in \"0123456789\":\n",
    "            num_stack.append(int(i))\n",
    "        else:\n",
    "            num0=num_stack.pop()\n",
    "            num1=num_stack.pop()\n",
    "            num_stack.append(calculate(i,num0,num1))\n",
    "    return num_stack.pop()"
   ]
  },
  {
   "cell_type": "code",
   "execution_count": 23,
   "metadata": {},
   "outputs": [
    {
     "data": {
      "text/plain": [
       "-1"
      ]
     },
     "execution_count": 23,
     "metadata": {},
     "output_type": "execute_result"
    }
   ],
   "source": [
    "back_cal(\"12+4-\")"
   ]
  },
  {
   "cell_type": "code",
   "execution_count": 24,
   "metadata": {},
   "outputs": [],
   "source": [
    "class Stack:\n",
    "    def __init__(self):\n",
    "        self.stack = []\n",
    "\n",
    "    def __len__(self):\n",
    "        return len(self.stack)\n",
    "\n",
    "    def push(self, data):\n",
    "        self.stack.append(data)\n",
    "\n",
    "    def pop(self):\n",
    "        return self.stack.pop()\n",
    "\n",
    "    def is_empty(self):\n",
    "        if not self.stack:\n",
    "            return True\n",
    "        else:\n",
    "            return False\n",
    "\n",
    "    def get_top(self):\n",
    "        return self.stack[-1]\n",
    "    \n",
    "def mid2back(string):\n",
    "\n",
    "    expression = []  # 存放表达式\n",
    "    sign_stack = Stack()  # 存放运算符和开括号\n",
    "    sign_table = {\n",
    "        '*': 2,\n",
    "        '/': 2,\n",
    "        '%': 2,\n",
    "        '+': 1,\n",
    "        '-': 1,\n",
    "        '(': 0,\n",
    "        ')': 0,\n",
    "    }\n",
    "    #print(\"==========================================\")\n",
    "    for ch in string:\n",
    "        if ch == '(':\n",
    "            sign_stack.push(ch)\n",
    "        elif ch == ')':\n",
    "            while sign_stack.get_top() != '(':\n",
    "                expression.append(sign_stack.pop())\n",
    "            sign_stack.pop()\n",
    "        elif ch == ' ':\n",
    "            continue\n",
    "        elif ch in \"0123456789\":\n",
    "            expression.append(ch)\n",
    "        else:\n",
    "            while not sign_stack.is_empty() and sign_table[sign_stack.get_top()] >= sign_table[ch]:\n",
    "                expression.append(sign_stack.pop())\n",
    "            sign_stack.push(ch)\n",
    "#         print(string,sign_stack.stack)\n",
    "#         print(expression)\n",
    "    while not sign_stack.is_empty():\n",
    "        if sign_stack.get_top()==\"()\":\n",
    "            print(\"don't match\")\n",
    "            break\n",
    "        \n",
    "        expression.append(sign_stack.pop())\n",
    "\n",
    "    return \"\".join(expression)"
   ]
  },
  {
   "cell_type": "code",
   "execution_count": 25,
   "metadata": {},
   "outputs": [
    {
     "name": "stdout",
     "output_type": "stream",
     "text": [
      "32+4-\n"
     ]
    }
   ],
   "source": [
    "back=mid2back(\"3+2-4\")\n",
    "print(back)"
   ]
  },
  {
   "cell_type": "code",
   "execution_count": 26,
   "metadata": {},
   "outputs": [
    {
     "data": {
      "text/plain": [
       "1"
      ]
     },
     "execution_count": 26,
     "metadata": {},
     "output_type": "execute_result"
    }
   ],
   "source": [
    "back_cal(back)"
   ]
  },
  {
   "cell_type": "code",
   "execution_count": null,
   "metadata": {},
   "outputs": [],
   "source": []
  }
 ],
 "metadata": {
  "kernelspec": {
   "display_name": "Python 3",
   "language": "python",
   "name": "python3"
  },
  "language_info": {
   "codemirror_mode": {
    "name": "ipython",
    "version": 3
   },
   "file_extension": ".py",
   "mimetype": "text/x-python",
   "name": "python",
   "nbconvert_exporter": "python",
   "pygments_lexer": "ipython3",
   "version": "3.8.3"
  }
 },
 "nbformat": 4,
 "nbformat_minor": 4
}
