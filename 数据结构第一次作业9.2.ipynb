{
 "cells": [
  {
   "cell_type": "code",
   "execution_count": 52,
   "metadata": {},
   "outputs": [],
   "source": [
    "class Fraction(object):\n",
    "    def __init__(self,top,bottom,sign=True):\n",
    "        if not isinstance(top,int) or not isinstance(top,int):\n",
    "            raise ValueError\n",
    "        try:\n",
    "            x=top/bottom\n",
    "        except Exception as e:\n",
    "            print(e)\n",
    "        def gcd(m, n):\n",
    "            while m % n != 0:\n",
    "                old_m = m\n",
    "                old_n = n\n",
    "                m = old_n\n",
    "                n = old_m % old_n\n",
    "            return n\n",
    "        \n",
    "        common = gcd(abs(top),abs(bottom))\n",
    "        \n",
    "        self.sign=1\n",
    "        if sign:\n",
    "            if(top>0 and bottom<0) or (top<0 and bottom>0):\n",
    "                self.sign=-1\n",
    "        else:\n",
    "            self.sign=-1\n",
    "        \n",
    "        self.num = abs(int(top/common))\n",
    "        self.den = abs(int(bottom/common))\n",
    "    def __str__ (self):\n",
    "        if self.sign>0:\n",
    "            return str(self.num) + \"/\" + str(self.den)\n",
    "        else:\n",
    "            return \"-\"+str(self.num) + \"/\" + str(self.den)\n",
    "    def get_num(self):\n",
    "        return self.num\n",
    "    def get_den(self):\n",
    "        return self.den\n",
    "    def get_sign(self):\n",
    "        if self.sign>0:\n",
    "            return \"+\"\n",
    "        else:\n",
    "            return \"-\"\n",
    "    def __add__(self, other_fraction):\n",
    "        new_num = self.sign*self.num * other_fraction.den + other_fraction.sign*self.den * other_fraction.num\n",
    "        new_den = self.den * other_fraction.den\n",
    "        return Fraction(new_num, new_den)\n",
    "    def __sub__(self, other_fraction):\n",
    "        new_num = self.sign*self.num * other_fraction.den - other_fraction.sign*self.den * other_fraction.num\n",
    "        new_den = self.den * other_fraction.den\n",
    "        return Fraction(new_num, new_den)\n",
    "    def __mul__ (self, other_fraction):\n",
    "        new_num = self.sign*other_fraction.sign*self.num * other_fraction.num\n",
    "        new_den = self.den * other_fraction.den\n",
    "        return Fraction(new_num, new_den)\n",
    "    def __truediv__(self, other_fraction):\n",
    "        new_num = self.sign*other_fraction.sign*self.num * other_fraction.den\n",
    "        new_den = self.den * other_fraction.num\n",
    "        return Fraction(new_num, new_den)\n",
    "\n",
    "    def __eq__(self, other):\n",
    "        first_num = self.num * other.den*self.sign     \n",
    "        second_num = other.num * self.den*other.sign\n",
    "        return first_num == second_num\n",
    "    def __ne__(self,other):\n",
    "        first_num = self.num * other.den*self.sign     \n",
    "        second_num = other.num * self.den*other.sign\n",
    "        return first_num != second_num\n",
    "    def __lt__(self,other): #小于\n",
    "        first_num = self.num * other.den*self.sign     \n",
    "        second_num = other.num * self.den*other.sign\n",
    "        return first_num < second_num\n",
    "    def __le__(self,other): #小于等于\n",
    "        first_num = self.num * other.den*self.sign     \n",
    "        second_num = other.num * self.den*other.sign\n",
    "        return first_num <= second_num\n",
    "    def __ge__(self,other):#大于等于\n",
    "        first_num = self.num * other.den*self.sign    \n",
    "        second_num = other.num * self.den*other.sign\n",
    "        return first_num >= second_num\n",
    "    def __gt__(self,other):#大于\n",
    "        first_num = self.num * other.den*self.sign     \n",
    "        second_num = other.num * self.den*other.sign\n",
    "        return first_num > second_num"
   ]
  },
  {
   "cell_type": "markdown",
   "metadata": {},
   "source": [
    "### 实例化及四则运算测试"
   ]
  },
  {
   "cell_type": "code",
   "execution_count": 53,
   "metadata": {},
   "outputs": [
    {
     "name": "stdout",
     "output_type": "stream",
     "text": [
      "a: -1/3\n",
      "b: -1/2\n",
      "c: 1/4\n",
      "d: -1/3\n",
      "-1/3+-1/2+1/4= -7/12\n",
      "-1/3--1/2-1/4= -1/12\n",
      "-1/3*-1/2+1/4= 5/12\n",
      "-1/3/-1/2+1/4= 11/12\n"
     ]
    }
   ],
   "source": [
    "a=Fraction(1,3,False)\n",
    "b=Fraction(1,-2)\n",
    "c=Fraction(1,4)\n",
    "d=Fraction(-1,3)\n",
    "print(\"a:\",a)\n",
    "print(\"b:\",b)\n",
    "print(\"c:\",c)\n",
    "print(\"d:\",d)\n",
    "print(str(a)+\"+\"+str(b)+\"+\"+str(c)+\"=\",a+b+c)\n",
    "print(str(a)+\"-\"+str(b)+\"-\"+str(c)+\"=\",a-b-c)\n",
    "print(str(a)+\"*\"+str(b)+\"+\"+str(c)+\"=\",a*b+c)\n",
    "print(str(a)+\"/\"+str(b)+\"+\"+str(c)+\"=\",a/b+c)"
   ]
  },
  {
   "cell_type": "markdown",
   "metadata": {},
   "source": [
    "### 逻辑运算测试"
   ]
  },
  {
   "cell_type": "code",
   "execution_count": 54,
   "metadata": {},
   "outputs": [
    {
     "name": "stdout",
     "output_type": "stream",
     "text": [
      "test lt:a<b False\n",
      "test le:a<=d True\n",
      "test ge:a>=d True\n",
      "test gt:a>d False\n"
     ]
    }
   ],
   "source": [
    "print(\"test lt:a<b\",a<b)\n",
    "print(\"test le:a<=d\",a<=d)\n",
    "print(\"test ge:a>=d\",a>=d)\n",
    "print(\"test gt:a>d\",a>d)"
   ]
  },
  {
   "cell_type": "markdown",
   "metadata": {},
   "source": [
    "### 实例化输入错误参数测试"
   ]
  },
  {
   "cell_type": "code",
   "execution_count": 55,
   "metadata": {},
   "outputs": [
    {
     "name": "stdout",
     "output_type": "stream",
     "text": [
      "division by zero\n"
     ]
    },
    {
     "ename": "ZeroDivisionError",
     "evalue": "integer division or modulo by zero",
     "output_type": "error",
     "traceback": [
      "\u001b[1;31m---------------------------------------------------------------------------\u001b[0m",
      "\u001b[1;31mZeroDivisionError\u001b[0m                         Traceback (most recent call last)",
      "\u001b[1;32m<ipython-input-55-e79fbe7889fa>\u001b[0m in \u001b[0;36m<module>\u001b[1;34m\u001b[0m\n\u001b[1;32m----> 1\u001b[1;33m \u001b[0me\u001b[0m\u001b[1;33m=\u001b[0m\u001b[0mFraction\u001b[0m\u001b[1;33m(\u001b[0m\u001b[1;36m1\u001b[0m\u001b[1;33m,\u001b[0m\u001b[1;36m0\u001b[0m\u001b[1;33m)\u001b[0m\u001b[1;33m\u001b[0m\u001b[1;33m\u001b[0m\u001b[0m\n\u001b[0m",
      "\u001b[1;32m<ipython-input-52-0f39bb846c5d>\u001b[0m in \u001b[0;36m__init__\u001b[1;34m(self, top, bottom, sign)\u001b[0m\n\u001b[0;32m     15\u001b[0m             \u001b[1;32mreturn\u001b[0m \u001b[0mn\u001b[0m\u001b[1;33m\u001b[0m\u001b[1;33m\u001b[0m\u001b[0m\n\u001b[0;32m     16\u001b[0m \u001b[1;33m\u001b[0m\u001b[0m\n\u001b[1;32m---> 17\u001b[1;33m         \u001b[0mcommon\u001b[0m \u001b[1;33m=\u001b[0m \u001b[0mgcd\u001b[0m\u001b[1;33m(\u001b[0m\u001b[0mabs\u001b[0m\u001b[1;33m(\u001b[0m\u001b[0mtop\u001b[0m\u001b[1;33m)\u001b[0m\u001b[1;33m,\u001b[0m\u001b[0mabs\u001b[0m\u001b[1;33m(\u001b[0m\u001b[0mbottom\u001b[0m\u001b[1;33m)\u001b[0m\u001b[1;33m)\u001b[0m\u001b[1;33m\u001b[0m\u001b[1;33m\u001b[0m\u001b[0m\n\u001b[0m\u001b[0;32m     18\u001b[0m \u001b[1;33m\u001b[0m\u001b[0m\n\u001b[0;32m     19\u001b[0m         \u001b[0mself\u001b[0m\u001b[1;33m.\u001b[0m\u001b[0msign\u001b[0m\u001b[1;33m=\u001b[0m\u001b[1;36m1\u001b[0m\u001b[1;33m\u001b[0m\u001b[1;33m\u001b[0m\u001b[0m\n",
      "\u001b[1;32m<ipython-input-52-0f39bb846c5d>\u001b[0m in \u001b[0;36mgcd\u001b[1;34m(m, n)\u001b[0m\n\u001b[0;32m      8\u001b[0m             \u001b[0mprint\u001b[0m\u001b[1;33m(\u001b[0m\u001b[0me\u001b[0m\u001b[1;33m)\u001b[0m\u001b[1;33m\u001b[0m\u001b[1;33m\u001b[0m\u001b[0m\n\u001b[0;32m      9\u001b[0m         \u001b[1;32mdef\u001b[0m \u001b[0mgcd\u001b[0m\u001b[1;33m(\u001b[0m\u001b[0mm\u001b[0m\u001b[1;33m,\u001b[0m \u001b[0mn\u001b[0m\u001b[1;33m)\u001b[0m\u001b[1;33m:\u001b[0m\u001b[1;33m\u001b[0m\u001b[1;33m\u001b[0m\u001b[0m\n\u001b[1;32m---> 10\u001b[1;33m             \u001b[1;32mwhile\u001b[0m \u001b[0mm\u001b[0m \u001b[1;33m%\u001b[0m \u001b[0mn\u001b[0m \u001b[1;33m!=\u001b[0m \u001b[1;36m0\u001b[0m\u001b[1;33m:\u001b[0m\u001b[1;33m\u001b[0m\u001b[1;33m\u001b[0m\u001b[0m\n\u001b[0m\u001b[0;32m     11\u001b[0m                 \u001b[0mold_m\u001b[0m \u001b[1;33m=\u001b[0m \u001b[0mm\u001b[0m\u001b[1;33m\u001b[0m\u001b[1;33m\u001b[0m\u001b[0m\n\u001b[0;32m     12\u001b[0m                 \u001b[0mold_n\u001b[0m \u001b[1;33m=\u001b[0m \u001b[0mn\u001b[0m\u001b[1;33m\u001b[0m\u001b[1;33m\u001b[0m\u001b[0m\n",
      "\u001b[1;31mZeroDivisionError\u001b[0m: integer division or modulo by zero"
     ]
    }
   ],
   "source": [
    "e=Fraction(1,0)"
   ]
  },
  {
   "cell_type": "code",
   "execution_count": 57,
   "metadata": {},
   "outputs": [
    {
     "ename": "ValueError",
     "evalue": "",
     "output_type": "error",
     "traceback": [
      "\u001b[1;31m---------------------------------------------------------------------------\u001b[0m",
      "\u001b[1;31mValueError\u001b[0m                                Traceback (most recent call last)",
      "\u001b[1;32m<ipython-input-57-b7453bc35b23>\u001b[0m in \u001b[0;36m<module>\u001b[1;34m\u001b[0m\n\u001b[1;32m----> 1\u001b[1;33m \u001b[0mf\u001b[0m\u001b[1;33m=\u001b[0m\u001b[0mFraction\u001b[0m\u001b[1;33m(\u001b[0m\u001b[1;36m1.1\u001b[0m\u001b[1;33m,\u001b[0m\u001b[1;36m2\u001b[0m\u001b[1;33m)\u001b[0m\u001b[1;33m\u001b[0m\u001b[1;33m\u001b[0m\u001b[0m\n\u001b[0m",
      "\u001b[1;32m<ipython-input-52-0f39bb846c5d>\u001b[0m in \u001b[0;36m__init__\u001b[1;34m(self, top, bottom, sign)\u001b[0m\n\u001b[0;32m      2\u001b[0m     \u001b[1;32mdef\u001b[0m \u001b[0m__init__\u001b[0m\u001b[1;33m(\u001b[0m\u001b[0mself\u001b[0m\u001b[1;33m,\u001b[0m\u001b[0mtop\u001b[0m\u001b[1;33m,\u001b[0m\u001b[0mbottom\u001b[0m\u001b[1;33m,\u001b[0m\u001b[0msign\u001b[0m\u001b[1;33m=\u001b[0m\u001b[1;32mTrue\u001b[0m\u001b[1;33m)\u001b[0m\u001b[1;33m:\u001b[0m\u001b[1;33m\u001b[0m\u001b[1;33m\u001b[0m\u001b[0m\n\u001b[0;32m      3\u001b[0m         \u001b[1;32mif\u001b[0m \u001b[1;32mnot\u001b[0m \u001b[0misinstance\u001b[0m\u001b[1;33m(\u001b[0m\u001b[0mtop\u001b[0m\u001b[1;33m,\u001b[0m\u001b[0mint\u001b[0m\u001b[1;33m)\u001b[0m \u001b[1;32mor\u001b[0m \u001b[1;32mnot\u001b[0m \u001b[0misinstance\u001b[0m\u001b[1;33m(\u001b[0m\u001b[0mtop\u001b[0m\u001b[1;33m,\u001b[0m\u001b[0mint\u001b[0m\u001b[1;33m)\u001b[0m\u001b[1;33m:\u001b[0m\u001b[1;33m\u001b[0m\u001b[1;33m\u001b[0m\u001b[0m\n\u001b[1;32m----> 4\u001b[1;33m             \u001b[1;32mraise\u001b[0m \u001b[0mValueError\u001b[0m\u001b[1;33m\u001b[0m\u001b[1;33m\u001b[0m\u001b[0m\n\u001b[0m\u001b[0;32m      5\u001b[0m         \u001b[1;32mtry\u001b[0m\u001b[1;33m:\u001b[0m\u001b[1;33m\u001b[0m\u001b[1;33m\u001b[0m\u001b[0m\n\u001b[0;32m      6\u001b[0m             \u001b[0mx\u001b[0m\u001b[1;33m=\u001b[0m\u001b[0mtop\u001b[0m\u001b[1;33m/\u001b[0m\u001b[0mbottom\u001b[0m\u001b[1;33m\u001b[0m\u001b[1;33m\u001b[0m\u001b[0m\n",
      "\u001b[1;31mValueError\u001b[0m: "
     ]
    }
   ],
   "source": [
    "f=Fraction(1.1,2)"
   ]
  }
 ],
 "metadata": {
  "kernelspec": {
   "display_name": "Python 3",
   "language": "python",
   "name": "python3"
  },
  "language_info": {
   "codemirror_mode": {
    "name": "ipython",
    "version": 3
   },
   "file_extension": ".py",
   "mimetype": "text/x-python",
   "name": "python",
   "nbconvert_exporter": "python",
   "pygments_lexer": "ipython3",
   "version": "3.8.3"
  }
 },
 "nbformat": 4,
 "nbformat_minor": 4
}
